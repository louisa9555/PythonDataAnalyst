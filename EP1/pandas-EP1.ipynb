{
 "cells": [
  {
   "cell_type": "markdown",
   "metadata": {},
   "source": [
    "# Pandas\n",
    "\n",
    "## 1. Python และ Pandas\n",
    "- **Python** คือภาษาโปรแกรมที่ใช้งานง่าย เหมาะกับการวิเคราะห์ข้อมูล\n",
    "- **Pandas** คือไลบรารีสำหรับจัดการและวิเคราะห์ข้อมูลในรูปแบบตาราง (DataFrame)"
   ]
  },
  {
   "cell_type": "markdown",
   "metadata": {},
   "source": [
    "## 2. การติดตั้ง Pandas\n",
    "ใช้คำสั่งนี้ใน Terminal หรือ Jupyter Notebook"
   ]
  },
  {
   "cell_type": "code",
   "execution_count": null,
   "metadata": {},
   "outputs": [],
   "source": [
    "!pip install pandas numpy openpyxl"
   ]
  },
  {
   "cell_type": "markdown",
   "metadata": {},
   "source": [
    "## 3. การนำเข้า Pandas"
   ]
  },
  {
   "cell_type": "code",
   "execution_count": null,
   "metadata": {},
   "outputs": [],
   "source": [
    "import pandas as pd\n",
    "import numpy as np"
   ]
  },
  {
   "cell_type": "markdown",
   "metadata": {},
   "source": [
    "## 4. โครงสร้างข้อมูลหลักใน Pandas\n",
    "- **Series** (ข้อมูล 1 มิติ)\n",
    "- **DataFrame** (ข้อมูล 2 มิติ)"
   ]
  },
  {
   "cell_type": "markdown",
   "metadata": {},
   "source": [
    "### ตัวอย่างการสร้าง Series"
   ]
  },
  {
   "cell_type": "code",
   "execution_count": null,
   "metadata": {},
   "outputs": [],
   "source": [
    "series = pd.Series([10, 20, 30, 40, 50, 60, 70, 80, 90, 100])\n",
    "display(series)"
   ]
  },
  {
   "cell_type": "markdown",
   "metadata": {},
   "source": [
    "### ตัวอย่างการสร้าง DataFrame"
   ]
  },
  {
   "cell_type": "code",
   "execution_count": null,
   "metadata": {},
   "outputs": [],
   "source": [
    "data = {\n",
    "    'ชื่อ': ['Louis', 'John', 'Smith'],\n",
    "    'อายุ': [25, 30, 35],\n",
    "    'ชั้นปี': [1, 2, 3],\n",
    "    'เพศ': ['ชาย', 'ชาย', 'หญิง'], \n",
    "    'คะแนน': [80, 90, 85]\n",
    "}\n",
    "\n",
    "df = pd.DataFrame(data)\n",
    "display(df)"
   ]
  },
  {
   "cell_type": "markdown",
   "metadata": {},
   "source": [
    "## 5. การอ่านไฟล์ข้อมูล\n",
    "- รองรับไฟล์ CSV, Excel"
   ]
  },
  {
   "cell_type": "code",
   "execution_count": null,
   "metadata": {},
   "outputs": [],
   "source": [
    "# อ่านไฟล์ CSV\n",
    "df = pd.read_csv('employee_data.csv')\n",
    "# เขียนไฟล์ CSV\n",
    "df.to_csv('employee_data_modified.csv', index=False)\n",
    "\n",
    "# อ่านไฟล์ Excel\n",
    "df = pd.read_excel('employee_data.xlsx')\n",
    "# เขียนไฟล์ Excel\n",
    "df.to_excel('employee_data_modified.xlsx', index=False)\n",
    "\n",
    "df"
   ]
  },
  {
   "cell_type": "markdown",
   "metadata": {},
   "source": [
    "## 6. การดูข้อมูลเบื้องต้น"
   ]
  },
  {
   "cell_type": "code",
   "execution_count": null,
   "metadata": {},
   "outputs": [],
   "source": [
    "df.head()      # ดู 5 แถวแรก\n",
    "df.tail()      # ดู 5 แถวสุดท้าย\n",
    "df.info()      # ดูข้อมูลสรุป (non-null = NaN หรือ None)\n",
    "df.describe()  # ดูสถิติข้อมูล"
   ]
  },
  {
   "cell_type": "markdown",
   "metadata": {},
   "source": [
    "## 7. การเลือกข้อมูล (Selection)"
   ]
  },
  {
   "cell_type": "code",
   "execution_count": null,
   "metadata": {},
   "outputs": [],
   "source": [
    "# เลือกตามชื่อแถว (column)\n",
    "df['Last Name']\n",
    "df[['First Name', 'Last Name', \"Salary\"]]\n",
    "print(type(df[['First Name', 'Last Name', \"Salary\"]]))\n",
    "df[['First Name', 'Last Name']].to_numpy()\n",
    "df[['First Name', 'Last Name']].values\n",
    "df[['First Name', 'Last Name']].values.tolist()"
   ]
  },
  {
   "cell_type": "markdown",
   "metadata": {},
   "source": [
    "### ข้อแตกต่างระหว่าง numpy กับ array\n",
    "- มีฟังก์ชันคณิตศาสตร์ครบถ้วน\n",
    "- เร็วกว่าม ใช้หน่วยตวามจำน้อยกว่า\n",
    "- เหมาะกับงานคำนวณ/วิเคราะห์ข้อมูล"
   ]
  },
  {
   "cell_type": "code",
   "execution_count": null,
   "metadata": {},
   "outputs": [],
   "source": [
    "py_list = [1, 2, 3]\n",
    "np_array = np.array([1, 2, 3])\n",
    "\n",
    "# บวกเลข\n",
    "print(py_list + py_list)      # [1, 2, 3, 1, 2, 3] (ต่อ list)\n",
    "print(np_array + np_array)    # [2 4 6] (บวกเลขแต่ละตำแหน่ง)"
   ]
  },
  {
   "cell_type": "code",
   "execution_count": null,
   "metadata": {},
   "outputs": [],
   "source": [
    "df = pd.read_excel('employee_data.xlsx')\n",
    "df.loc[100]      # เลือกด้วย label\n",
    "df.iloc[100]     # เลือกด้วย index"
   ]
  },
  {
   "cell_type": "markdown",
   "metadata": {},
   "source": [
    "## 8. การกรองข้อมูล (Filtering)"
   ]
  },
  {
   "cell_type": "code",
   "execution_count": null,
   "metadata": {},
   "outputs": [],
   "source": [
    "df[df['Position'] == 'Specialist'] # เลือกแถวที่ Department = Specialist\n",
    "special_condition = df[(df['Position'] == 'Specialist') & (df['Salary'] >= 20000)] # เลือกแถวที่ Department = Specialist และ Salary >= 40000\n",
    "special_condition\n",
    "special_condition.count()  # นับจำนวนแถวที่เลือก"
   ]
  },
  {
   "cell_type": "markdown",
   "metadata": {},
   "source": [
    "## 9. การเพิ่ม/ลบข้อมูล\n",
    "- how='any' (ค่า default): ลบแถวที่มีค่า NaN อย่างน้อย 1 คอลัมน์  \n",
    "- how='all': ลบแถวที่ทุกคอลัมน์เป็น NaN  \n",
    "- thresh=n: ต้องมีข้อมูล (non-NaN) อย่างน้อย n คอลัมน์ ถึงจะไม่ถูกลบ  "
   ]
  },
  {
   "cell_type": "code",
   "execution_count": null,
   "metadata": {},
   "outputs": [],
   "source": [
    "df = pd.read_csv('employee_data.csv')\n",
    "\n",
    "# เพิ่มคอลัมน์ใหม่ df['ชื่อ column'] = ข้อมูลที่ต้องการใส่\n",
    "df['Senior'] = df['Salary'] >= 40000\n",
    "# เพิ่มแถว\n",
    "new_row = {\n",
    "    'Employee ID': 108,\n",
    "    'First Name': 'Alex',\n",
    "    'Last Name': 'Nguyen',\n",
    "    'Department': 'Finance',\n",
    "    'Position': 'Analyst',\n",
    "    'Salary': 45000,\n",
    "    'Hire Date': '2023-03-10',\n",
    "    'Senior': True\n",
    "}\n",
    "\n",
    "# วิธีที่ 1\n",
    "df = pd.concat([df, pd.DataFrame([new_row])], ignore_index=True)\n",
    "# วิธีที่ 2\n",
    "df.loc[len(df)] = [108, 'Alex', 'Nguyen', 'Finance', 'Analyst', 45000, '2023-03-10', True]\n",
    "\n",
    "# ลบคอลัมน์ (1 ลบคอลัมน์)\n",
    "df = df.drop('Senior', axis=1)\n",
    "df = df.drop('Position', axis=1)\n",
    "# ลบแถว (0 ลบแถว)\n",
    "df = df.drop(0, axis=0)\n",
    "df = df.drop(2, axis=0)\n",
    "df = df.drop(1001, axis=0)\n",
    "df\n"
   ]
  },
  {
   "cell_type": "code",
   "execution_count": null,
   "metadata": {},
   "outputs": [],
   "source": [
    "# สร้าง DataFrame ตัวอย่าง\n",
    "data = {\n",
    "    'A': [1, 2, np.nan, 4],\n",
    "    'B': [np.nan, 2, 3, 4],\n",
    "    'C': [1, np.nan, np.nan, 4],\n",
    "    'D': [1, 2, 3, 4],\n",
    "    'E': [np.nan, np.nan, np.nan, np.nan]\n",
    "}\n",
    "df = pd.DataFrame(data)\n",
    "print(\"ต้นแบบ:\")\n",
    "print(df)\n",
    "\n",
    "# 1. ลบแถวที่มีค่า NaN อย่างน้อย 1 คอลัมน์ (how='any')\n",
    "df1 = df.dropna(axis=0, how='any')\n",
    "print(\"\\nลบแถวที่มี NaN อย่างน้อย 1 คอลัมน์ (how='any'):\")\n",
    "print(df1)\n",
    "\n",
    "# 2. ลบแถวที่ทุกคอลัมน์เป็น NaN (how='all')\n",
    "df2 = df.dropna(axis=0, how='all')\n",
    "print(\"\\nลบแถวที่ทุกคอลัมน์เป็น NaN (how='all'):\")\n",
    "print(df2)\n",
    "\n",
    "# 3. ลบแถวที่มีข้อมูล (non-NaN) น้อยกว่า 3 คอลัมน์ (thresh=3)\n",
    "df3 = df.dropna(axis=0, thresh=3)\n",
    "print(\"\\nลบแถวที่มีข้อมูลน้อยกว่า 3 คอลัมน์ (thresh=3):\")\n",
    "print(df3)\n",
    "\n",
    "# 4. ลบแถวที่คอลัมน์ 'A' หรือ 'B' เป็น NaN (subset)\n",
    "df4 = df.dropna(axis=0, subset=['A', 'B'])\n",
    "print(\"\\nลบแถวที่คอลัมน์ 'A' หรือ 'B' เป็น NaN (subset=['A', 'B']):\")\n",
    "print(df4)"
   ]
  },
  {
   "cell_type": "markdown",
   "metadata": {},
   "source": [
    "## 10. การจัดกลุ่มข้อมูล (Group By)"
   ]
  },
  {
   "cell_type": "code",
   "execution_count": null,
   "metadata": {},
   "outputs": [],
   "source": [
    "df = pd.read_csv('employee_data.csv')\n",
    "\n",
    "# คำนวณค่าเฉลี่ยของ Salary ตาม Department\n",
    "df.groupby('Department')['Salary'].mean()\n",
    "# คำนวณค่าเฉลี่ยของ Salary ตาม Department และ Position\n",
    "df['Hire Date'] = pd.to_datetime(df['Hire Date'])\n",
    "salary_by_pos = df[df['Hire Date'] > '2020-01-01']\n",
    "salary_by_pos.groupby(['Department', 'Position'])['Salary'].mean().to_csv('salary_mean.csv')\n",
    "salary_by_pos.groupby(['Department', 'Position'])['Salary'].min()\n",
    "salary_by_pos.groupby(['Department', 'Position'])['Salary'].max()\n",
    "salary_by_pos.groupby(['Department', 'Position'])['Salary'].median() \n",
    "\n",
    "round(df.groupby('Department')['Salary'].mean(), 2)  # ปัดทศนิยม 2 ตำแหน่ง"
   ]
  },
  {
   "cell_type": "markdown",
   "metadata": {},
   "source": [
    "## 11. การบันทึกข้อมูลออกเป็นไฟล์"
   ]
  },
  {
   "cell_type": "code",
   "execution_count": null,
   "metadata": {},
   "outputs": [],
   "source": [
    "df.to_csv('output.csv', index=False)\n",
    "df.to_excel('output.xlsx', index=False)"
   ]
  },
  {
   "cell_type": "markdown",
   "metadata": {},
   "source": [
    "## 12. การใช้งาน Pandas กับข้อมูลจริง\n",
    "- ตัวอย่าง: วิเคราะห์คะแนนนักเรียน, ข้อมูลยอดขาย ฯลฯ\n",
    "\n",
    "สามารถนำแต่ละหัวข้อไปขยายความและเพิ่มตัวอย่างได้ตามความเหมาะสม"
   ]
  }
 ],
 "metadata": {
  "kernelspec": {
   "display_name": "Python 3",
   "language": "python",
   "name": "python3"
  },
  "language_info": {
   "codemirror_mode": {
    "name": "ipython",
    "version": 3
   },
   "file_extension": ".py",
   "mimetype": "text/x-python",
   "name": "python",
   "nbconvert_exporter": "python",
   "pygments_lexer": "ipython3",
   "version": "3.9.12"
  }
 },
 "nbformat": 4,
 "nbformat_minor": 2
}
